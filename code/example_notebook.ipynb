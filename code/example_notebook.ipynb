{
 "cells": [
  {
   "cell_type": "code",
   "execution_count": null,
   "metadata": {},
   "outputs": [],
   "source": [
    "''' \n",
    "import os\n",
    "\n",
    "os.environ['JULIA_BINDIR'] = '/path/to/julia/bin'  # Set this before importing juliacall - open julia in terminal/cmd and type println(Sys.BINDIR)\n",
    "\n",
    "import juliacall\n",
    "#MAGEMin_C = juliacall.newmodule(\"MAGEMin_C\")\n",
    "#MAGEMin_C.seval(\"using MAGEMin_C\")\n",
    "\n",
    "from juliacall import Main as jl, convert as jlconvert\n",
    "'''\n",
    "\n",
    "import numpy as np\n",
    "from molmass import Formula\n",
    "import pandas as pd\n",
    "from resources.BulkConversion import ThermoBulk\n",
    "from adiabat import mantle_adiabat\n",
    "from phaseDiagram import phaseDiagram\n",
    "\n",
    "from juliacall import Main as jl, convert as jlconvert"
   ]
  },
  {
   "cell_type": "code",
   "execution_count": null,
   "metadata": {},
   "outputs": [],
   "source": [
    "oxides = ['SiO2', 'Al2O3', 'CaO',  'MgO', 'FeO', 'K2O', 'Na2O', 'TiO2', 'O' , 'Cr2O3' , 'H2O']\n",
    "values = [39.7918,1.999,2.9166, 49.2832, 5.5007, 0.0055, 0.0418, 0.1104, 0.0825, 0.1706,  0.0]\n",
    "sys_in  = \"mol\"\n",
    "Xoxides = jlconvert(jl.Vector[jl.String], oxides)\n",
    "X       = jlconvert(jl.Vector[jl.Float64], values)\n",
    "sys_in  = \"mol\"\n",
    "\n",
    "#Instatiates an adiabat object and parameterizes the phase boundaries (solidus and liquidus) for given bulk composition over the speicifed pressure and temperature ranges\n",
    "\n",
    "adiabat = mantle_adiabat(oxides, values, sys_in, dataset=\"ig\")\n",
    "Pressures,T_solidus, T_liquidus = adiabat.parameterize_phase_boundaries(P_range=[0,70], T_range=[800,2500],P_points=20,T_points_initial=5)\n",
    "\n",
    "#phaseDiagram = phaseDiagram(oxides, values, sys_in, dataset=\"ig\")\n",
    "#Ps,T_solidus, T_liquidus = phaseDiagram.parameterize_phase_boundaries(P_range=[0,100], T_range=[800,2500],P_points=20,T_points_initial=5)\n"
   ]
  },
  {
   "cell_type": "code",
   "execution_count": null,
   "metadata": {},
   "outputs": [],
   "source": [
    "T_surface = 1500 + 273.15\n",
    "P_range = [0.01,70]\n",
    "P_points, T_points = adiabat.calculate_adiabat(T_surface, P_range, dP=1,latent_scaling_factor=1)"
   ]
  },
  {
   "cell_type": "code",
   "execution_count": null,
   "metadata": {},
   "outputs": [],
   "source": [
    "\n",
    "#print(adiabat.adiabat_data)\n",
    "\n",
    "import matplotlib.pyplot as plt\n",
    "fig, (ax1) = plt.subplots(1, 1, figsize=(6, 6))\n",
    "# Plot phase boundaries\n",
    "ax1.plot(T_solidus, Pressures, 'b-')\n",
    "ax1.plot(T_liquidus, Pressures, 'r-')\n",
    "\n",
    "# Plot phase boundaries\n",
    "ax1.plot(T_points-273.15, P_points, 'k-')\n",
    "\n",
    "# Label Axes\n",
    "ax1.set_ylabel('Pressure (Kbar)')\n",
    "ax1.set_xlabel('Temperature (C)')\n",
    "ax1.invert_yaxis()\n",
    "ax1.set_title('Phase Boundaries')\n",
    "ax1.legend()\n",
    "ax1.grid(True)\n",
    "\n",
    "\n",
    "plt.tight_layout()\n",
    "plt.show()"
   ]
  }
 ],
 "metadata": {
  "language_info": {
   "name": "python"
  }
 },
 "nbformat": 4,
 "nbformat_minor": 2
}
